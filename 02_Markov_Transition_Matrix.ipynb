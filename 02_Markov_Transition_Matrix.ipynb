{
 "cells": [
  {
   "cell_type": "code",
   "execution_count": 1,
   "id": "191d2bbc-c801-4896-beb1-3b34cc0270e3",
   "metadata": {},
   "outputs": [
    {
     "name": "stdout",
     "output_type": "stream",
     "text": [
      "Transition Probability Matrix (Markov Model):\n",
      "     A   C   G   T\n",
      "A  0.375  0.125  0.375  0.125\n",
      "C  0.600  0.000  0.200  0.200\n",
      "G  0.333  0.167  0.000  0.500\n",
      "T  0.167  0.333  0.333  0.167\n"
     ]
    }
   ],
   "source": [
    "import numpy as np\n",
    "\n",
    "# DNA sequence\n",
    "dna_seq = \"CTTCATGTGAAAGCAGACGTAAGTCA\"\n",
    "\n",
    "# Define nucleotide symbols\n",
    "bases = ['A', 'C', 'G', 'T']\n",
    "\n",
    "# Initialize count matrix for nucleotide transitions\n",
    "transition_counts = np.zeros((4, 4), dtype=int)\n",
    "\n",
    "# Count transitions between adjacent nucleotides\n",
    "for idx in range(len(dna_seq) - 1):\n",
    "    current_base = dna_seq[idx]\n",
    "    next_base = dna_seq[idx + 1]\n",
    "    row_idx = bases.index(current_base)\n",
    "    col_idx = bases.index(next_base)\n",
    "    transition_counts[row_idx, col_idx] += 1\n",
    "\n",
    "# Compute transition probabilities\n",
    "markov_matrix = np.zeros((4, 4))\n",
    "for row in range(4):\n",
    "    row_total = transition_counts[row].sum()\n",
    "    if row_total > 0:\n",
    "        markov_matrix[row] = transition_counts[row] / row_total\n",
    "\n",
    "# Display the result\n",
    "print(\"Transition Probability Matrix (Markov Model):\")\n",
    "print(\"     \" + \"   \".join(bases))\n",
    "for row_idx in range(4):\n",
    "    base_label = bases[row_idx]\n",
    "    row_values = \"  \".join(f\"{prob:.3f}\" for prob in markov_matrix[row_idx])\n",
    "    print(f\"{base_label}  {row_values}\")\n"
   ]
  },
  {
   "cell_type": "code",
   "execution_count": null,
   "id": "d8aabc31-683f-4923-9a89-d95b7817b295",
   "metadata": {},
   "outputs": [],
   "source": []
  }
 ],
 "metadata": {
  "kernelspec": {
   "display_name": "Python 3 (ipykernel)",
   "language": "python",
   "name": "python3"
  },
  "language_info": {
   "codemirror_mode": {
    "name": "ipython",
    "version": 3
   },
   "file_extension": ".py",
   "mimetype": "text/x-python",
   "name": "python",
   "nbconvert_exporter": "python",
   "pygments_lexer": "ipython3",
   "version": "3.12.7"
  }
 },
 "nbformat": 4,
 "nbformat_minor": 5
}
